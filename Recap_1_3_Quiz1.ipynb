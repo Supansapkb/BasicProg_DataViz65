{
  "nbformat": 4,
  "nbformat_minor": 0,
  "metadata": {
    "colab": {
      "name": "Recap 1-3 Quiz1.ipynb",
      "provenance": [],
      "include_colab_link": true
    },
    "kernelspec": {
      "name": "python3",
      "display_name": "Python 3"
    },
    "language_info": {
      "name": "python"
    }
  },
  "cells": [
    {
      "cell_type": "markdown",
      "metadata": {
        "id": "view-in-github",
        "colab_type": "text"
      },
      "source": [
        "<a href=\"https://colab.research.google.com/github/Supansapkb/BasicProg_DataViz65/blob/main/Recap_1_3_Quiz1.ipynb\" target=\"_parent\"><img src=\"https://colab.research.google.com/assets/colab-badge.svg\" alt=\"Open In Colab\"/></a>"
      ]
    },
    {
      "cell_type": "markdown",
      "source": [
        "Quiz 1 \n",
        "\n",
        "คำนวณเวลาเป็นความต่างของเวลาเป็นวินาทีของช่วงเวลาต่อไปนี้โดยใช้คำสั่ง split() ช่วย และ print ออกมาให้สวยงาม\n",
        "\n",
        "* 09:11:50 - 12:30:15\n",
        "* 13:41:07 - 20:00:18\n",
        "* 21:30:15 - 00:00:00\n",
        "* 00:00:00 - 23:59:59\n",
        "\n",
        "\n",
        "\n",
        "\n",
        "\n"
      ],
      "metadata": {
        "id": "FKKg2s03yfKC"
      }
    },
    {
      "cell_type": "code",
      "execution_count": 12,
      "metadata": {
        "id": "JHgL5URByL6e",
        "outputId": "4b5d9d67-5b74-4455-bd25-e0ada8b25df7",
        "colab": {
          "base_uri": "https://localhost:8080/"
        }
      },
      "outputs": [
        {
          "output_type": "stream",
          "name": "stdout",
          "text": [
            "09:11:50\n",
            "['09', '11', '50']\n",
            "12:30:15\n",
            "['12', '30', '15']\n",
            "เวลา 09:11:50 ถึง 12:30:15 มีระยะเวลาต่างกันอยู่ 11905 วินาที\n"
          ]
        }
      ],
      "source": [
        "#09:11:50 - 12:30:15\n",
        "T1 = '09:11:50'\n",
        "print(T1) \n",
        "sp_T1 = T1.split(':')\n",
        "print(sp_T1)\n",
        "total_T1 = int(sp_T1[0])*60*60 + int(sp_T1[1])*60 + int(sp_T1[2])\n",
        "T2 = '12:30:15'\n",
        "print(T2) \n",
        "sp_T2 = T2.split(':')\n",
        "print(sp_T2)\n",
        "total_T2 = int(sp_T2[0])*60*60 + int(sp_T2[1])*60 + int(sp_T2[2])\n",
        "print(f'เวลา {T1} ถึง {T2} มีระยะเวลาต่างกันอยู่ {total_T2 - total_T1} วินาที')"
      ]
    },
    {
      "cell_type": "code",
      "source": [
        "#13:41:07 - 20:00:18\n",
        "T1 = '13:41:07'\n",
        "print(T1) \n",
        "sp_T1 = T1.split(':')\n",
        "print(sp_T1)\n",
        "total_T1 = int(sp_T1[0])*60*60 + int(sp_T1[1])*60 + int(sp_T1[2])\n",
        "T2 = '20:00:18'\n",
        "print(T2) \n",
        "sp_T2 = T2.split(':')\n",
        "print(sp_T2)\n",
        "total_T2 = int(sp_T2[0])*60*60 + int(sp_T2[1])*60 + int(sp_T2[2])\n",
        "print(f'เวลา {T1} ถึง {T2} มีระยะเวลาต่างกันอยู่ {total_T2 - total_T1} วินาที')"
      ],
      "metadata": {
        "id": "yJEAFUs8_c17",
        "outputId": "909bfc23-7b19-402e-f8b7-c24a4b471daf",
        "colab": {
          "base_uri": "https://localhost:8080/"
        }
      },
      "execution_count": 13,
      "outputs": [
        {
          "output_type": "stream",
          "name": "stdout",
          "text": [
            "13:41:07\n",
            "['13', '41', '07']\n",
            "20:00:18\n",
            "['20', '00', '18']\n",
            "เวลา 13:41:07 ถึง 20:00:18 มีระยะเวลาต่างกันอยู่ 22751 วินาที\n"
          ]
        }
      ]
    },
    {
      "cell_type": "code",
      "source": [
        "#21:30:15 - 00:00:00\n",
        "T1 = '21:30:15'\n",
        "print(T1) \n",
        "sp_T1 = T1.split(':')\n",
        "print(sp_T1)\n",
        "total_T1 = int(sp_T1[0])*60*60 + int(sp_T1[1])*60 + int(sp_T1[2])\n",
        "T2 = '24:00:00'\n",
        "print(T2) \n",
        "sp_T2 = T2.split(':')\n",
        "print(sp_T2)\n",
        "total_T2 = int(sp_T2[0])*60*60 + int(sp_T2[1])*60 + int(sp_T2[2])\n",
        "print(f'เวลา {T1} ถึง {T2} มีระยะเวลาต่างกันอยู่ {total_T2 - total_T1} วินาที')"
      ],
      "metadata": {
        "id": "mvp07vmiA8Ey",
        "outputId": "1d4a721f-7607-4e84-bbde-776af25f92e0",
        "colab": {
          "base_uri": "https://localhost:8080/"
        }
      },
      "execution_count": 11,
      "outputs": [
        {
          "output_type": "stream",
          "name": "stdout",
          "text": [
            "21:30:15\n",
            "['21', '30', '15']\n",
            "24:00:00\n",
            "['24', '00', '00']\n",
            "เวลา 21:30:15 ถึง 24:00:00 มีระยะเวลาต่างกันอยู่ 8985 วินาที\n"
          ]
        }
      ]
    },
    {
      "cell_type": "code",
      "source": [
        "#00:00:00 - 23:59:59\n",
        "T1 = '00:00:00'\n",
        "print(T1) \n",
        "sp_T1 = T1.split(':')\n",
        "print(sp_T1)\n",
        "total_T1 = int(sp_T1[0])*60*60 + int(sp_T1[1])*60 + int(sp_T1[2])\n",
        "T2 = '23:59:59'\n",
        "print(T2) \n",
        "sp_T2 = T2.split(':')\n",
        "print(sp_T2)\n",
        "total_T2 = int(sp_T2[0])*60*60 + int(sp_T2[1])*60 + int(sp_T2[2])\n",
        "print(f'เวลา {T1} ถึง {T2} มีระยะเวลาต่างกันอยู่ {total_T2 - total_T1} วินาที')"
      ],
      "metadata": {
        "id": "yqNnpJSFBoyT",
        "outputId": "22da4caa-fe37-484a-9772-1fc3eafcecae",
        "colab": {
          "base_uri": "https://localhost:8080/"
        }
      },
      "execution_count": 10,
      "outputs": [
        {
          "output_type": "stream",
          "name": "stdout",
          "text": [
            "00:00:00\n",
            "['00', '00', '00']\n",
            "23:59:59\n",
            "['23', '59', '59']\n",
            "เวลา 00:00:00 ถึง 23:59:59 มีระยะเวลาต่างกันอยู่ 86399 วินาที\n"
          ]
        }
      ]
    }
  ]
}