{
  "nbformat": 4,
  "nbformat_minor": 0,
  "metadata": {
    "colab": {
      "name": "Recap 1-3 Quiz1.ipynb",
      "provenance": [],
      "include_colab_link": true
    },
    "kernelspec": {
      "name": "python3",
      "display_name": "Python 3"
    },
    "language_info": {
      "name": "python"
    }
  },
  "cells": [
    {
      "cell_type": "markdown",
      "metadata": {
        "id": "view-in-github",
        "colab_type": "text"
      },
      "source": [
        "<a href=\"https://colab.research.google.com/github/Supansapkb/BasicProg_DataViz65/blob/main/Recap_1_3_Quiz1.ipynb\" target=\"_parent\"><img src=\"https://colab.research.google.com/assets/colab-badge.svg\" alt=\"Open In Colab\"/></a>"
      ]
    },
    {
      "cell_type": "markdown",
      "source": [
        "Quiz 1 \n",
        "\n",
        "คำนวณเวลาเป็นความต่างของเวลาเป็นวินาทีของช่วงเวลาต่อไปนี้โดยใช้คำสั่ง split() ช่วย และ print ออกมาให้สวยงาม\n",
        "\n",
        "* 09:11:50 - 12:30:15\n",
        "* 13:41:07 - 20:00:18\n",
        "* 21:30:15 - 00:00:00\n",
        "* 00:00:00 - 23:59:59\n",
        "\n",
        "\n",
        "\n",
        "\n",
        "\n"
      ],
      "metadata": {
        "id": "FKKg2s03yfKC"
      }
    },
    {
      "cell_type": "code",
      "execution_count": 7,
      "metadata": {
        "id": "JHgL5URByL6e",
        "outputId": "71748d72-0c88-49b3-da9a-282969d726af",
        "colab": {
          "base_uri": "https://localhost:8080/"
        }
      },
      "outputs": [
        {
          "output_type": "stream",
          "name": "stdout",
          "text": [
            " 09:11:50 ต่างจาก 12:30:15  อยู่  11905 วินาที \n"
          ]
        }
      ],
      "source": [
        "#09:11:50 - 12:30:15\n",
        "\n",
        "a = ((12*60*60) + (30*60) + 15) - ((9*60*60) + (11*60) + 50 )\n",
        "print(f' 09:11:50 ต่างจาก 12:30:15  อยู่  {a} วินาที ')"
      ]
    },
    {
      "cell_type": "code",
      "source": [
        "#13:41:07 - 20:00:18\n",
        "\n",
        "a = ((20*60*60) + (0*60) + 18) - ((13*60*60) + (41*60) + 7)\n",
        "print(f' 13:41:07 ต่างจาก 20:00:18  อยู่  {a} วินาที ')"
      ],
      "metadata": {
        "id": "yJEAFUs8_c17",
        "outputId": "14b94c3e-3674-4b89-9e06-3266c222b17c",
        "colab": {
          "base_uri": "https://localhost:8080/"
        }
      },
      "execution_count": 8,
      "outputs": [
        {
          "output_type": "stream",
          "name": "stdout",
          "text": [
            " 13:41:07 ต่างจาก 20:00:18  อยู่  22751 วินาที \n"
          ]
        }
      ]
    },
    {
      "cell_type": "code",
      "source": [
        "#21:30:15 - 00:00:00\n",
        "\n",
        "a = ((24*60*60) ) - ((21*60*60) + (30*60) + 15)\n",
        "print(f' 21:30:15 ต่างจาก  00:00:00  อยู่ {a} วินาที ')"
      ],
      "metadata": {
        "id": "mvp07vmiA8Ey",
        "outputId": "909da1a3-2a28-4b06-b4af-77b70a5f4db4",
        "colab": {
          "base_uri": "https://localhost:8080/"
        }
      },
      "execution_count": 6,
      "outputs": [
        {
          "output_type": "stream",
          "name": "stdout",
          "text": [
            " 21:30:15 ต่างจาก  00:00:00  อยู่ 8985 วินาที \n"
          ]
        }
      ]
    },
    {
      "cell_type": "code",
      "source": [
        "#00:00:00 - 23:59:59\n",
        "\n",
        "a = ((23*60*60) + (59*60) + 59) - 0\n",
        "print(f' 00:00:00 ต่างจาก  23:59:59 อยู่  {a} วินาที ')"
      ],
      "metadata": {
        "id": "yqNnpJSFBoyT",
        "outputId": "77bacdee-c0e3-4250-e152-38fb6a9163e9",
        "colab": {
          "base_uri": "https://localhost:8080/"
        }
      },
      "execution_count": 5,
      "outputs": [
        {
          "output_type": "stream",
          "name": "stdout",
          "text": [
            " 00:00:00 ต่างจาก  23:59:59 อยู่  86399 วินาที \n"
          ]
        }
      ]
    }
  ]
}